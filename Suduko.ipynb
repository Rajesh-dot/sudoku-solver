{
 "cells": [
  {
   "cell_type": "markdown",
   "metadata": {},
   "source": [
    "# SODUKO Solver"
   ]
  },
  {
   "cell_type": "code",
   "execution_count": null,
   "metadata": {},
   "outputs": [],
   "source": []
  },
  {
   "cell_type": "code",
   "execution_count": 40,
   "metadata": {},
   "outputs": [],
   "source": [
    "grid=[[5,3,0,0,7,0,0,0,0],[6,0,0,1,9,5,0,0,0],[0,9,8,0,0,0,0,6,0],[8,0,0,0,6,0,0,0,3],[4,0,0,8,0,3,0,0,1],[7,0,0,0,2,0,0,0,6],[0,6,0,0,0,0,2,8,0],[0,0,0,4,1,9,0,0,5],[0,0,0,0,8,0,0,7,9]]"
   ]
  },
  {
   "cell_type": "code",
   "execution_count": 41,
   "metadata": {},
   "outputs": [
    {
     "name": "stdout",
     "output_type": "stream",
     "text": [
      "[[5, 3, 0, 0, 7, 0, 0, 0, 0], [6, 0, 0, 1, 9, 5, 0, 0, 0], [0, 9, 8, 0, 0, 0, 0, 6, 0], [8, 0, 0, 0, 6, 0, 0, 0, 3], [4, 0, 0, 8, 0, 3, 0, 0, 1], [7, 0, 0, 0, 2, 0, 0, 0, 6], [0, 6, 0, 0, 0, 0, 2, 8, 0], [0, 0, 0, 4, 1, 9, 0, 0, 5], [0, 0, 0, 0, 8, 0, 0, 7, 9]]\n"
     ]
    }
   ],
   "source": [
    "print(grid)"
   ]
  },
  {
   "cell_type": "code",
   "execution_count": 42,
   "metadata": {},
   "outputs": [
    {
     "name": "stdout",
     "output_type": "stream",
     "text": [
      "[[5 3 0 0 7 0 0 0 0]\n",
      " [6 0 0 1 9 5 0 0 0]\n",
      " [0 9 8 0 0 0 0 6 0]\n",
      " [8 0 0 0 6 0 0 0 3]\n",
      " [4 0 0 8 0 3 0 0 1]\n",
      " [7 0 0 0 2 0 0 0 6]\n",
      " [0 6 0 0 0 0 2 8 0]\n",
      " [0 0 0 4 1 9 0 0 5]\n",
      " [0 0 0 0 8 0 0 7 9]]\n"
     ]
    }
   ],
   "source": [
    "import numpy as np\n",
    "print(np.matrix(grid))"
   ]
  },
  {
   "cell_type": "code",
   "execution_count": 43,
   "metadata": {},
   "outputs": [],
   "source": [
    "def possible(x,y,n):\n",
    "    for i in range(9):\n",
    "        if grid[x][i]==n:\n",
    "            return False\n",
    "    for i in range(9):\n",
    "        if grid[i][y]==n:\n",
    "            return False\n",
    "    x0=(x//3)*3\n",
    "    y0=(y//3)*3\n",
    "    for i in range(3):\n",
    "        for j in range(3):\n",
    "            if grid[x0+i][y0+j]==n:\n",
    "                return False\n",
    "    return True"
   ]
  },
  {
   "cell_type": "code",
   "execution_count": 44,
   "metadata": {},
   "outputs": [
    {
     "data": {
      "text/plain": [
       "False"
      ]
     },
     "execution_count": 44,
     "metadata": {},
     "output_type": "execute_result"
    }
   ],
   "source": [
    "possible(4,4,3)"
   ]
  },
  {
   "cell_type": "code",
   "execution_count": 45,
   "metadata": {},
   "outputs": [
    {
     "data": {
      "text/plain": [
       "True"
      ]
     },
     "execution_count": 45,
     "metadata": {},
     "output_type": "execute_result"
    }
   ],
   "source": [
    "possible(4,4,5)"
   ]
  },
  {
   "cell_type": "code",
   "execution_count": 46,
   "metadata": {},
   "outputs": [
    {
     "name": "stdout",
     "output_type": "stream",
     "text": [
      "5 3 0 | 0 7 0 | 0 0 0 \n",
      "6 0 0 | 1 9 5 | 0 0 0 \n",
      "0 9 8 | 0 0 0 | 0 6 0 \n",
      "- - - - - - - - - - -\n",
      "8 0 0 | 0 6 0 | 0 0 3 \n",
      "4 0 0 | 8 0 3 | 0 0 1 \n",
      "7 0 0 | 0 2 0 | 0 0 6 \n",
      "- - - - - - - - - - -\n",
      "0 6 0 | 0 0 0 | 2 8 0 \n",
      "0 0 0 | 4 1 9 | 0 0 5 \n",
      "0 0 0 | 0 8 0 | 0 7 9 \n"
     ]
    }
   ],
   "source": [
    "def printboard(grid):\n",
    "    for i in range(9):\n",
    "        if (i)%3==0 and i!=0 and c==0:\n",
    "                print(\"- - - - - - - - - - -\")\n",
    "        for j in range(9):\n",
    "            if (j)%3==0 and j!=0:\n",
    "                print('|',end=\" \")\n",
    "            print(grid[i][j],end=\" \")\n",
    "        print()\n",
    "printboard(grid)"
   ]
  },
  {
   "cell_type": "code",
   "execution_count": 47,
   "metadata": {},
   "outputs": [],
   "source": [
    "def solve():\n",
    "    for i in range(9):\n",
    "        for j in range(9):\n",
    "            if grid[i][j]==0:\n",
    "                for n in range(1,10):\n",
    "                    if possible(i,j,n):\n",
    "                        grid[i][j]=n\n",
    "                        solve()\n",
    "                        grid[i][j]=0\n",
    "                return\n",
    "    #print(np.matrix(grid))\n",
    "    printboard(grid)"
   ]
  },
  {
   "cell_type": "code",
   "execution_count": 48,
   "metadata": {},
   "outputs": [
    {
     "name": "stdout",
     "output_type": "stream",
     "text": [
      "5 3 4 | 6 7 8 | 9 1 2 \n",
      "6 7 2 | 1 9 5 | 3 4 8 \n",
      "1 9 8 | 3 4 2 | 5 6 7 \n",
      "- - - - - - - - - - -\n",
      "8 5 9 | 7 6 1 | 4 2 3 \n",
      "4 2 6 | 8 5 3 | 7 9 1 \n",
      "7 1 3 | 9 2 4 | 8 5 6 \n",
      "- - - - - - - - - - -\n",
      "9 6 1 | 5 3 7 | 2 8 4 \n",
      "2 8 7 | 4 1 9 | 6 3 5 \n",
      "3 4 5 | 2 8 6 | 1 7 9 \n"
     ]
    }
   ],
   "source": [
    "solve()"
   ]
  },
  {
   "cell_type": "code",
   "execution_count": null,
   "metadata": {},
   "outputs": [],
   "source": []
  }
 ],
 "metadata": {
  "kernelspec": {
   "display_name": "Python 3",
   "language": "python",
   "name": "python3"
  },
  "language_info": {
   "codemirror_mode": {
    "name": "ipython",
    "version": 3
   },
   "file_extension": ".py",
   "mimetype": "text/x-python",
   "name": "python",
   "nbconvert_exporter": "python",
   "pygments_lexer": "ipython3",
   "version": "3.7.6"
  }
 },
 "nbformat": 4,
 "nbformat_minor": 4
}
